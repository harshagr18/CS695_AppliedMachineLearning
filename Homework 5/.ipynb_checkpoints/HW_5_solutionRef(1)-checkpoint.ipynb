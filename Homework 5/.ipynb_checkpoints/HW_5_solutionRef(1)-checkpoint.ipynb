{
 "cells": [
  {
   "cell_type": "markdown",
   "metadata": {},
   "source": [
    "# Original noisy data"
   ]
  },
  {
   "cell_type": "code",
   "execution_count": 1,
   "metadata": {},
   "outputs": [
    {
     "data": {
      "image/png": "[encoded data removed]",
      "text/plain": [
       "<Figure size 432x288 with 1 Axes>"
      ]
     },
     "metadata": {},
     "output_type": "display_data"
    }
   ],
   "source": [
    "import matplotlib.pyplot as plt\n",
    "import numpy as np\n",
    "import pandas as pd   \n",
    "\n",
    "def rounding(num, places):\n",
    "    return int(num*(10**places))/(10**places)\n",
    "\n",
    "noise_scale = 100\n",
    "number_of_samples = 50\n",
    "plt.style.use('seaborn-whitegrid')\n",
    "\n",
    "x_data = 25*(np.random.rand(number_of_samples, 1) - 0.5)\n",
    "y_data = 5 * x_data + 15 * x_data**2 + 2 * x_data**3 + noise_scale*np.random.randn(number_of_samples, 1)\n",
    "x_data = x_data.flatten()\n",
    "y_data = y_data.flatten()\n",
    "\n",
    "plt.plot(x_data,y_data,'ro')\n",
    "plt.title(\"Data (Noise = %d, Samples = %d)\"%(noise_scale, number_of_samples))\n",
    "plt.show()"
   ]
  },
  {
   "cell_type": "markdown",
   "metadata": {},
   "source": [
    "# Polynomial obtained in HW1"
   ]
  },
  {
   "cell_type": "code",
   "execution_count": 2,
   "metadata": {},
   "outputs": [
    {
     "name": "stdout",
     "output_type": "stream",
     "text": [
      "Best Fit Polynomial \n",
      " 2.081 x^3 + 15.022 x^2 + 3.422 x + 4.803\n"
     ]
    },
    {
     "data": {
      "image/png": "[encoded data removed]",
      "text/plain": [
       "<Figure size 432x288 with 1 Axes>"
      ]
     },
     "metadata": {},
     "output_type": "display_data"
    }
   ],
   "source": [
    "n_line = 100\n",
    "x_fit = []\n",
    "for i in range(0,n_line):\n",
    "    x_fit.append((i/n_line)*25-12)\n",
    "\n",
    "coeff = np.polyfit(x_data, y_data, 3)\n",
    "print(\"Best Fit Polynomial \\n\", rounding(coeff[0], 3), \"x^3 +\", rounding(coeff[1], 3), \"x^2 +\", rounding(coeff[2], 3), \"x +\", rounding(coeff[3], 3))\n",
    "\n",
    "y_fit = []\n",
    "fit_func = np.poly1d(coeff)\n",
    "for i in range(0,n_line):\n",
    "    y_fit.append(fit_func(x_fit[i]))\n",
    "\n",
    "\n",
    "\n",
    "plt.plot(x_fit, y_fit, 'g-')\n",
    "plt.plot(x_data,y_data,'ro')\n",
    "plt.show()"
   ]
  },
  {
   "cell_type": "markdown",
   "metadata": {},
   "source": [
    "# Genetic Algorithm Implementation"
   ]
  },
  {
   "cell_type": "code",
   "execution_count": 3,
   "metadata": {},
   "outputs": [],
   "source": [
    "def cnp(obj):\n",
    "    if isinstance(obj, np.ndarray):\n",
    "        return obj\n",
    "    \n",
    "    elif isinstance(obj, list):\n",
    "        return np.array(obj)\n",
    "    \n",
    "    else:\n",
    "        print(\"UNKNOWN TYPE --> RETURNING NONE\")\n",
    "        return None\n",
    "    \n",
    "def fitness_score(x_vals, Y, coeffs):\n",
    "    x_vals = cnp(x_vals)\n",
    "    Y = cnp(Y)\n",
    "    coeffs = cnp(coeffs)\n",
    "    \n",
    "    if ((x_vals is None) or (Y is None) or (coeffs is None)):\n",
    "        print(\"Bad Data Type: Cannot calculate SSE\")\n",
    "        \n",
    "    X = []\n",
    "    degree = len(coeffs) - 1\n",
    "    for x_val in x_vals:\n",
    "        row = []\n",
    "        for i in range(0, degree+1):\n",
    "            row.append(x_val**(degree - i))\n",
    "                       \n",
    "        X.append(row)\n",
    "    \n",
    "    X = np.array(X)\n",
    "    \n",
    "    prediction = np.dot(X, coeffs) \n",
    "    \n",
    "    diff = prediction - Y\n",
    "    \n",
    "    RMSE = np.sqrt(np.dot(diff, diff)/len(x_vals))\n",
    "    \n",
    "    return RMSE\n",
    "\n",
    "def show_best_fit(coeffs, truth, x_data, y_data):\n",
    "    x_vals = []\n",
    "    for i in range(0,n_line):\n",
    "        x_vals.append((i/n_line)*25-12)\n",
    "        \n",
    "    x_vals = cnp(x_vals)\n",
    "    coeffs = cnp(coeffs)\n",
    "    truth = cnp(truth)\n",
    "    \n",
    "    if ((x_vals is None)or (coeffs is None) or (truth is None)):\n",
    "        print(\"Bad Data Type: Cannot Plot Data\")\n",
    "        \n",
    "    coeff_degree = len(coeffs)\n",
    "    truth_degree = len(truth)\n",
    "    max_degree = coeff_degree\n",
    "    if max_degree < truth_degree:\n",
    "        max_degree = truth_degree\n",
    "    \n",
    "    \n",
    "    X = []\n",
    "    degree = max_degree - 1\n",
    "    for x_val in x_vals:\n",
    "        row = []\n",
    "        for i in range(0, degree+1):\n",
    "            row.append(x_val**(degree - i))\n",
    "                       \n",
    "        X.append(row)\n",
    "    \n",
    "    X = np.array(X)\n",
    "    \n",
    "    prediction = np.dot(X[:,(max_degree-coeff_degree):], coeffs)\n",
    "    best_fit = np.dot(X[:,(max_degree-truth_degree):], truth)\n",
    "    \n",
    "    plt.plot(x_vals, prediction, 'b', x_vals, best_fit, 'g')\n",
    "    plt.plot(x_data, y_data, 'ro')\n",
    "    plt.legend(['GA Result', 'Regression'])\n",
    "    plt.show()\n",
    "    \n",
    "def round_list(in_list):\n",
    "    out_str = \"[\"\n",
    "    for i,el in enumerate(in_list):\n",
    "        if i == len(in_list)-1:\n",
    "            out_str += \"%.2f]\"%(el)\n",
    "        else:\n",
    "            out_str += \"%.2f, \"%(el)\n",
    "            \n",
    "    return out_str\n",
    "\n",
    "def get_child(parent1, parent2, alpha):\n",
    "    \n",
    "    mask = np.random.randint(0,2,len(parent1))\n",
    "    reverse_mask = []\n",
    "    for m in mask:\n",
    "        reverse_mask.append(m^1) #XOR bitflip\n",
    "            \n",
    "    reverse_mask = np.array(reverse_mask)\n",
    "    \n",
    "    parent1 = (alpha*mask + (1-alpha)*reverse_mask)*parent1\n",
    "    parent2 = ((1-alpha)*mask + alpha*reverse_mask)*parent2\n",
    "    \n",
    "    return (parent1 + parent2).tolist()\n",
    "    \n",
    "def crossover(high_fits, number_to_replace):\n",
    "    \n",
    "    fitness = high_fits['fitness'].to_numpy()\n",
    "    fit_sum = np.sum(fitness)\n",
    "    probabilities = fitness/fit_sum\n",
    "    \n",
    "    \n",
    "    mating = []\n",
    "    for prob in probabilities.tolist():\n",
    "        mating.append(np.random.uniform(0,prob,1))\n",
    "    \n",
    "    high_fits['mate'] = mating\n",
    "    \n",
    "    high_fits.sort_values(by=['mate'], inplace=True)\n",
    "    \n",
    "   \n",
    "    \n",
    "    pairs = int(high_fits.shape[0]/2)\n",
    "    \n",
    "    num_per_pair = int(number_to_replace/pairs)\n",
    "    leftover = number_to_replace - num_per_pair*pairs\n",
    "   \n",
    "    \n",
    "    kept_fits = high_fits['coeffs'].tolist()\n",
    "    \n",
    "    new_gen = [] + kept_fits\n",
    "    \n",
    "    for i in range(0, pairs):\n",
    "        parent1 = kept_fits[i]\n",
    "        parent2 = kept_fits[i+1]\n",
    "        \n",
    "        \n",
    "        for j in range(0, num_per_pair):\n",
    "            rand_alpha = np.random.uniform(0,2,1)\n",
    "            offspring = get_child(parent1, parent2, rand_alpha)\n",
    "            new_gen.append(offspring)\n",
    "            \n",
    "    for i in range(0, leftover):\n",
    "        pair = np.random.choice(int(high_fits.shape[0]), 2, replace=False)\n",
    "        parent1 = kept_fits[pair[0]]\n",
    "        parent2 = kept_fits[pair[1]]\n",
    "        \n",
    "        rand_alpha = np.random.uniform(0,2,1)\n",
    "        offspring = get_child(parent1, parent2, rand_alpha)\n",
    "        new_gen.append(offspring)\n",
    "        \n",
    "        \n",
    "    return new_gen\n",
    "\n",
    "def mutate(member_list, mutation_rate, search_range):\n",
    "    \n",
    "    for member in member_list:\n",
    "        rand_val = np.random.uniform(0,1,1)\n",
    "        if rand_val < mutation_rate:\n",
    "            genes = len(member)\n",
    "            gene_to_mutate = np.random.choice(genes, 1)\n",
    "            \n",
    "            member[int(gene_to_mutate)] = np.random.uniform(search_range[0], search_range[1], 1)\n",
    "    return member_list\n"
   ]
  },
  {
   "cell_type": "code",
   "execution_count": 4,
   "metadata": {
    "scrolled": false
   },
   "outputs": [
    {
     "name": "stderr",
     "output_type": "stream",
     "text": [
      "<ipython-input-3-487bfa6a6ebd>:112: SettingWithCopyWarning: \n",
      "A value is trying to be set on a copy of a slice from a DataFrame.\n",
      "Try using .loc[row_indexer,col_indexer] = value instead\n",
      "\n",
      "See the caveats in the documentation: https://pandas.pydata.org/pandas-docs/stable/user_guide/indexing.html#returning-a-view-versus-a-copy\n",
      "  high_fits['mate'] = mating\n",
      "<ipython-input-3-487bfa6a6ebd>:114: SettingWithCopyWarning: \n",
      "A value is trying to be set on a copy of a slice from a DataFrame\n",
      "\n",
      "See the caveats in the documentation: https://pandas.pydata.org/pandas-docs/stable/user_guide/indexing.html#returning-a-view-versus-a-copy\n",
      "  high_fits.sort_values(by=['mate'], inplace=True)\n",
      "<ipython-input-3-487bfa6a6ebd>:6: VisibleDeprecationWarning: Creating an ndarray from ragged nested sequences (which is a list-or-tuple of lists-or-tuples-or ndarrays with different lengths or shapes) is deprecated. If you meant to do this, you must specify 'dtype=object' when creating the ndarray.\n",
      "  return np.array(obj)\n",
      "<ipython-input-3-487bfa6a6ebd>:97: VisibleDeprecationWarning: Creating an ndarray from ragged nested sequences (which is a list-or-tuple of lists-or-tuples-or ndarrays with different lengths or shapes) is deprecated. If you meant to do this, you must specify 'dtype=object' when creating the ndarray.\n",
      "  parent2 = ((1-alpha)*mask + alpha*reverse_mask)*parent2\n",
      "<ipython-input-3-487bfa6a6ebd>:96: VisibleDeprecationWarning: Creating an ndarray from ragged nested sequences (which is a list-or-tuple of lists-or-tuples-or ndarrays with different lengths or shapes) is deprecated. If you meant to do this, you must specify 'dtype=object' when creating the ndarray.\n",
      "  parent1 = (alpha*mask + (1-alpha)*reverse_mask)*parent1\n"
     ]
    },
    {
     "name": "stdout",
     "output_type": "stream",
     "text": [
      "Closest Fit: 93.51\n",
      "Best Solution Fitness Score: 92.08\n",
      "Best child:  [2.13, 14.99, -1.53, 5.66]\n"
     ]
    },
    {
     "data": {
      "image/png": "[encoded data removed]",
      "text/plain": [
       "<Figure size 432x288 with 1 Axes>"
      ]
     },
     "metadata": {},
     "output_type": "display_data"
    }
   ],
   "source": [
    "pop = 100\n",
    "keep = 20\n",
    "mutation_chance = 0.03\n",
    "threshold = 1.01*fitness_score(x_data, y_data, coeff)\n",
    "max_iterations = 1000\n",
    "max_degree = 3\n",
    "search_range = (-50, 50)\n",
    "\n",
    "diff_tolerance = 0.05\n",
    "diff_tolerance_max = 10\n",
    "diff_tolerance_cnt = 0\n",
    "\n",
    "pop_members = []\n",
    "for i in range(0, pop):\n",
    "    temp_coeffs = np.random.uniform(search_range[0], search_range[1], (max_degree+1))\n",
    "    pop_members.append(temp_coeffs.tolist())\n",
    "\n",
    "epoch = 0\n",
    "best_fit = 1000000000\n",
    "best_offspring = None\n",
    "\n",
    "while (best_fit > threshold):\n",
    "    if epoch > max_iterations:\n",
    "        break\n",
    "\n",
    "    population = []\n",
    "    for member in pop_members:\n",
    "        fit = fitness_score(x_data, y_data, member)\n",
    "        population.append([member, fit])\n",
    "    \n",
    "    population = pd.DataFrame(population, columns = ['coeffs', 'fitness'])\n",
    "    population.sort_values(by=['fitness'], inplace=True)\n",
    "    \n",
    "    to_keep = population[:keep]\n",
    " \n",
    "    diff = abs(best_fit - to_keep['fitness'].to_numpy()[0])\n",
    "    if diff < diff_tolerance:\n",
    "        diff_tolerance_cnt += 1\n",
    "        if diff_tolerance_cnt > diff_tolerance_max:\n",
    "            break\n",
    "    else:\n",
    "        diff_tolerance_cnt = 0\n",
    "        \n",
    "    best_fit = to_keep['fitness'].to_numpy()[0]\n",
    "    best_offspring = to_keep['coeffs'].to_numpy()[0]\n",
    "    \n",
    "    pop_members = crossover(to_keep, (pop-keep))\n",
    "    pop_members = mutate(pop_members, mutation_chance, search_range)\n",
    "    \n",
    "    \n",
    "    epoch += 1\n",
    "    \n",
    "print(\"Closest Fit: %.2f\"%(best_fit))\n",
    "print(\"Best Solution Fitness Score: %.2f\"%(fitness_score(x_data, y_data, coeff)))\n",
    "print(\"Best child: \", round_list(best_offspring))\n",
    "\n",
    "show_best_fit(best_offspring, coeff, x_data, y_data)"
   ]
  },
  {
   "cell_type": "markdown",
   "metadata": {},
   "source": [
    "\n",
    "The genetic algorithm almost works similarly like the regression and we cannot distinctly say that one performs better than the other, but depending on the polynomial we might be able to make certain changes to the parameter of mutations and crossover and have an algorithm that works perfectly for the given dataset\n"
   ]
  },
  {
   "cell_type": "code",
   "execution_count": null,
   "metadata": {},
   "outputs": [],
   "source": []
  }
 ],
 "metadata": {
  "kernelspec": {
   "display_name": "Python 3",
   "language": "python",
   "name": "python3"
  },
  "language_info": {
   "codemirror_mode": {
    "name": "ipython",
    "version": 3
   },
   "file_extension": ".py",
   "mimetype": "text/x-python",
   "name": "python",
   "nbconvert_exporter": "python",
   "pygments_lexer": "ipython3",
   "version": "3.9.2"
  }
 },
 "nbformat": 4,
 "nbformat_minor": 2
}
