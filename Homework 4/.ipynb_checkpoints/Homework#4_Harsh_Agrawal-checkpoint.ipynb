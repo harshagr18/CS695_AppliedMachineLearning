{
 "cells": [
  {
   "cell_type": "code",
   "execution_count": 1,
   "id": "supreme-auditor",
   "metadata": {},
   "outputs": [],
   "source": [
    "import pandas as pd\n",
    "import numpy as np\n",
    "import matplotlib.pyplot as plt\n",
    "from sklearn.model_selection import train_test_split\n",
    "from sklearn.neural_network import MLPClassifier\n",
    "from sklearn.metrics import accuracy_score, confusion_matrix\n",
    "from sklearn.tree import DecisionTreeClassifier\n",
    "from sklearn.ensemble import RandomForestClassifier\n",
    "\n",
    "import warnings\n",
    "warnings.filterwarnings(\"ignore\")"
   ]
  },
  {
   "cell_type": "code",
   "execution_count": 2,
   "id": "southwest-backing",
   "metadata": {},
   "outputs": [
    {
     "name": "stdout",
     "output_type": "stream",
     "text": [
      "<class 'pandas.core.frame.DataFrame'>\n",
      "Int64Index: 1309 entries, 0 to 1308\n",
      "Data columns (total 5 columns):\n",
      " #   Column    Non-Null Count  Dtype  \n",
      "---  ------    --------------  -----  \n",
      " 0   pclass    1309 non-null   int64  \n",
      " 1   sex       1309 non-null   int64  \n",
      " 2   age       1309 non-null   float64\n",
      " 3   sibsp     1309 non-null   int64  \n",
      " 4   survived  1309 non-null   int64  \n",
      "dtypes: float64(1), int64(4)\n",
      "memory usage: 61.4 KB\n"
     ]
    }
   ],
   "source": [
    "# Reading Titanic dataset, slicing into required columns, mapping strings to integer values and replacing NA with mean values in age\n",
    "\n",
    "data = pd.read_csv(\"Titanic.csv\")\n",
    "data = data[[\"pclass\", \"sex\", \"age\",\"sibsp\",\"survived\"]] \n",
    "data[\"pclass\"] = data[\"pclass\"].map({\"1st\":1,\"2nd\":2,\"3rd\":3})\n",
    "data[\"sex\"] = data[\"sex\"].map({\"male\":0,\"female\":1})\n",
    "data[\"age\"].fillna((data[\"age\"].mean()),inplace=True)\n",
    "data = data.dropna()\n",
    "data.info()"
   ]
  },
  {
   "cell_type": "code",
   "execution_count": 3,
   "id": "metallic-amateur",
   "metadata": {},
   "outputs": [
    {
     "name": "stdout",
     "output_type": "stream",
     "text": [
      "Size of training data is  1047\n",
      "Size of test data is  262\n"
     ]
    }
   ],
   "source": [
    "# Train test splitting the dataset\n",
    "\n",
    "x = data.drop(\"survived\", axis = 1)\n",
    "y = data[\"survived\"]\n",
    "\n",
    "x_train, x_test, y_train, y_test = train_test_split(x, y, test_size = 0.2, random_state = 18)\n",
    "\n",
    "print(\"Size of training data is \",len(x_train))\n",
    "print(\"Size of test data is \",len(x_test))"
   ]
  },
  {
   "cell_type": "code",
   "execution_count": 4,
   "id": "tropical-finger",
   "metadata": {},
   "outputs": [
    {
     "name": "stdout",
     "output_type": "stream",
     "text": [
      "The accuracy of the model is  73.66412213740458 %\n",
      "out-of-sample percent survivors correctly predicted (on test set) : 50.45871559633027 %\n",
      "out-of‐sample percent fatalities correctly predicted (on test set) : 90.19607843137256 %\n"
     ]
    }
   ],
   "source": [
    "# Here we use a neural network with 2 layers and display its accuracy\n",
    "# Activation function logistic is not accepted, hence we use Relu\n",
    "\n",
    "neural = MLPClassifier(solver='adam',hidden_layer_sizes=(2,),activation='logistic',learning_rate='constant',\n",
    "                           learning_rate_init=0.1,alpha=0.00000001, momentum=0.4)\n",
    "\n",
    "neural = neural.fit(x_train, y_train)\n",
    "y_pred = neural.predict(x_test)\n",
    "\n",
    "print(\"The accuracy of the model is \",accuracy_score(y_test, y_pred)*100,\"%\")\n",
    "\n",
    "conf_matrix = confusion_matrix(y_test, y_pred)\n",
    "\n",
    "TN = conf_matrix[0][0]\n",
    "FN = conf_matrix[1][0]\n",
    "TP = conf_matrix[1][1]\n",
    "FP = conf_matrix[0][1]\n",
    "\n",
    "sensitivity1 = TP/(TP+FN)\n",
    "specificity1 = TN/(FP+TN)\n",
    "\n",
    "print(\"out-of-sample percent survivors correctly predicted (on test set) :\",sensitivity1*100,\"%\")\n",
    "print(\"out-of‐sample percent fatalities correctly predicted (on test set) :\",specificity1*100,\"%\")"
   ]
  },
  {
   "cell_type": "code",
   "execution_count": 5,
   "id": "enhanced-print",
   "metadata": {},
   "outputs": [
    {
     "name": "stdout",
     "output_type": "stream",
     "text": [
      "The accuracy of the model is  75.95419847328245 %\n",
      "out-of-sample percent survivors correctly predicted (on test set) : 54.12844036697248 %\n",
      "out-of‐sample percent fatalities correctly predicted (on test set) : 91.50326797385621 %\n"
     ]
    }
   ],
   "source": [
    "# Now building a neural network with more layers, to check accuracy\n",
    "\n",
    "neural = MLPClassifier(solver='adam',hidden_layer_sizes=(1000,),activation='logistic',learning_rate='constant',\n",
    "                           learning_rate_init=0.1,alpha=0.00000001, momentum=0.4)\n",
    "\n",
    "neural = neural.fit(x_train, y_train)\n",
    "y_pred = neural.predict(x_test)\n",
    "\n",
    "\n",
    "print(\"The accuracy of the model is \",accuracy_score(y_test, y_pred)*100,\"%\")\n",
    "\n",
    "conf_matrix = confusion_matrix(y_test, y_pred)\n",
    "\n",
    "TN = conf_matrix[0][0]\n",
    "FN = conf_matrix[1][0]\n",
    "TP = conf_matrix[1][1]\n",
    "FP = conf_matrix[0][1]\n",
    "\n",
    "sensitivity2 = TP/(TP+FN)\n",
    "specificity2 = TN/(FP+TN)\n",
    "\n",
    "print(\"out-of-sample percent survivors correctly predicted (on test set) :\",sensitivity2*100,\"%\")\n",
    "print(\"out-of‐sample percent fatalities correctly predicted (on test set) :\",specificity2*100,\"%\")"
   ]
  },
  {
   "cell_type": "code",
   "execution_count": 6,
   "id": "elect-antarctica",
   "metadata": {},
   "outputs": [
    {
     "name": "stdout",
     "output_type": "stream",
     "text": [
      "The accuracy of the model is  76.33587786259542 %\n",
      "out-of-sample percent survivors correctly predicted (on test set) : 67.88990825688074 %\n",
      "out-of‐sample percent fatalities correctly predicted (on test set) : 82.35294117647058 %\n"
     ]
    }
   ],
   "source": [
    "# Now building the same random forest as HW3 to compare\n",
    "\n",
    "forest = RandomForestClassifier(max_leaf_nodes = 7,n_estimators = 50, random_state = 18)\n",
    "forest = forest.fit(x_train, y_train)\n",
    "y_pred = forest.predict(x_test)\n",
    "\n",
    "print(\"The accuracy of the model is \",accuracy_score(y_test, y_pred)*100,\"%\")\n",
    "\n",
    "conf_matrix = confusion_matrix(y_test, y_pred)\n",
    "\n",
    "TN = conf_matrix[0][0]\n",
    "FN = conf_matrix[1][0]\n",
    "TP = conf_matrix[1][1]\n",
    "FP = conf_matrix[0][1]\n",
    "\n",
    "sensitivity3 = TP/(TP+FN)\n",
    "specificity3 = TN/(FP+TN)\n",
    "\n",
    "print(\"out-of-sample percent survivors correctly predicted (on test set) :\",sensitivity3*100,\"%\")\n",
    "print(\"out-of‐sample percent fatalities correctly predicted (on test set) :\",specificity3*100,\"%\")"
   ]
  },
  {
   "cell_type": "code",
   "execution_count": 7,
   "id": "provincial-sense",
   "metadata": {},
   "outputs": [
    {
     "data": {
      "text/html": [
       "<div>\n",
       "<style scoped>\n",
       "    .dataframe tbody tr th:only-of-type {\n",
       "        vertical-align: middle;\n",
       "    }\n",
       "\n",
       "    .dataframe tbody tr th {\n",
       "        vertical-align: top;\n",
       "    }\n",
       "\n",
       "    .dataframe thead th {\n",
       "        text-align: right;\n",
       "    }\n",
       "</style>\n",
       "<table border=\"1\" class=\"dataframe\">\n",
       "  <thead>\n",
       "    <tr style=\"text-align: right;\">\n",
       "      <th></th>\n",
       "      <th>Type of model</th>\n",
       "      <th>Survivor</th>\n",
       "      <th>Fatality</th>\n",
       "    </tr>\n",
       "  </thead>\n",
       "  <tbody>\n",
       "    <tr>\n",
       "      <th>0</th>\n",
       "      <td>Neural Network with 2 layers</td>\n",
       "      <td>0.504587</td>\n",
       "      <td>0.901961</td>\n",
       "    </tr>\n",
       "    <tr>\n",
       "      <th>1</th>\n",
       "      <td>Neural Network with 1000 layers</td>\n",
       "      <td>0.541284</td>\n",
       "      <td>0.915033</td>\n",
       "    </tr>\n",
       "    <tr>\n",
       "      <th>2</th>\n",
       "      <td>Random Forest from HW3</td>\n",
       "      <td>0.678899</td>\n",
       "      <td>0.823529</td>\n",
       "    </tr>\n",
       "  </tbody>\n",
       "</table>\n",
       "</div>"
      ],
      "text/plain": [
       "                     Type of model  Survivor  Fatality\n",
       "0     Neural Network with 2 layers  0.504587  0.901961\n",
       "1  Neural Network with 1000 layers  0.541284  0.915033\n",
       "2           Random Forest from HW3  0.678899  0.823529"
      ]
     },
     "execution_count": 7,
     "metadata": {},
     "output_type": "execute_result"
    }
   ],
   "source": [
    "data = [[\"Neural Network with 2 layers\",sensitivity1,specificity1],[\"Neural Network with 1000 layers\",sensitivity2,specificity2],[\"Random Forest from HW3\",sensitivity3,specificity3]]\n",
    "df = pd.DataFrame(data, columns=['Type of model','Survivor', 'Fatality'])\n",
    "df"
   ]
  }
 ],
 "metadata": {
  "kernelspec": {
   "display_name": "Python 3",
   "language": "python",
   "name": "python3"
  },
  "language_info": {
   "codemirror_mode": {
    "name": "ipython",
    "version": 3
   },
   "file_extension": ".py",
   "mimetype": "text/x-python",
   "name": "python",
   "nbconvert_exporter": "python",
   "pygments_lexer": "ipython3",
   "version": "3.9.2"
  }
 },
 "nbformat": 4,
 "nbformat_minor": 5
}
