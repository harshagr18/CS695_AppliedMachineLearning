{
 "cells": [
  {
   "cell_type": "code",
   "execution_count": 27,
   "id": "e02edf20",
   "metadata": {},
   "outputs": [],
   "source": [
    "import pandas as pd\n",
    "from sklearn.model_selection import train_test_split\n",
    "from sklearn.tree import DecisionTreeClassifier, export_graphviz\n",
    "from sklearn.metrics import classification_report, accuracy_score, confusion_matrix\n",
    "from IPython.display import Image  \n",
    "import pydotplus\n",
    "from sklearn.model_selection import GridSearchCV\n",
    "import warnings\n",
    "import numpy as np\n",
    "import matplotlib.pyplot as plt\n",
    "import warnings\n",
    "warnings.filterwarnings(\"ignore\")\n",
    "from sklearn.neural_network import MLPClassifier\n",
    "from sklearn.metrics import accuracy_score\n"
   ]
  },
  {
   "cell_type": "code",
   "execution_count": null,
   "id": "7339b4e5",
   "metadata": {},
   "outputs": [],
   "source": [
    "#Here we read the Titanic.csv file and for the features that have some values missing, we fill in the average values\n",
    "#using the average of the same feature of other samples."
   ]
  },
  {
   "cell_type": "code",
   "execution_count": 28,
   "id": "30781cec",
   "metadata": {},
   "outputs": [
    {
     "data": {
      "text/html": [
       "<div>\n",
       "<style scoped>\n",
       "    .dataframe tbody tr th:only-of-type {\n",
       "        vertical-align: middle;\n",
       "    }\n",
       "\n",
       "    .dataframe tbody tr th {\n",
       "        vertical-align: top;\n",
       "    }\n",
       "\n",
       "    .dataframe thead th {\n",
       "        text-align: right;\n",
       "    }\n",
       "</style>\n",
       "<table border=\"1\" class=\"dataframe\">\n",
       "  <thead>\n",
       "    <tr style=\"text-align: right;\">\n",
       "      <th></th>\n",
       "      <th>pclass</th>\n",
       "      <th>sex</th>\n",
       "      <th>age</th>\n",
       "      <th>sibsp</th>\n",
       "      <th>survived</th>\n",
       "    </tr>\n",
       "  </thead>\n",
       "  <tbody>\n",
       "    <tr>\n",
       "      <th>0</th>\n",
       "      <td>1</td>\n",
       "      <td>1</td>\n",
       "      <td>29.0000</td>\n",
       "      <td>0</td>\n",
       "      <td>1</td>\n",
       "    </tr>\n",
       "    <tr>\n",
       "      <th>1</th>\n",
       "      <td>1</td>\n",
       "      <td>0</td>\n",
       "      <td>0.9167</td>\n",
       "      <td>1</td>\n",
       "      <td>1</td>\n",
       "    </tr>\n",
       "    <tr>\n",
       "      <th>2</th>\n",
       "      <td>1</td>\n",
       "      <td>1</td>\n",
       "      <td>2.0000</td>\n",
       "      <td>1</td>\n",
       "      <td>0</td>\n",
       "    </tr>\n",
       "    <tr>\n",
       "      <th>3</th>\n",
       "      <td>1</td>\n",
       "      <td>0</td>\n",
       "      <td>30.0000</td>\n",
       "      <td>1</td>\n",
       "      <td>0</td>\n",
       "    </tr>\n",
       "    <tr>\n",
       "      <th>4</th>\n",
       "      <td>1</td>\n",
       "      <td>1</td>\n",
       "      <td>25.0000</td>\n",
       "      <td>1</td>\n",
       "      <td>0</td>\n",
       "    </tr>\n",
       "  </tbody>\n",
       "</table>\n",
       "</div>"
      ],
      "text/plain": [
       "   pclass  sex      age  sibsp  survived\n",
       "0       1    1  29.0000      0         1\n",
       "1       1    0   0.9167      1         1\n",
       "2       1    1   2.0000      1         0\n",
       "3       1    0  30.0000      1         0\n",
       "4       1    1  25.0000      1         0"
      ]
     },
     "execution_count": 28,
     "metadata": {},
     "output_type": "execute_result"
    }
   ],
   "source": [
    "df = pd.read_csv('Titanic.csv')\n",
    "df = df[['pclass', 'sex', 'age','sibsp','survived']] \n",
    "df['pclass'] = df['pclass'].map({'1st':1,'2nd':2,'3rd':3})\n",
    "df['sex'] = df['sex'].map({'male':0,'female':1})\n",
    "df['age'].fillna((df['age'].mean()),inplace=True)\n",
    "df.head()"
   ]
  },
  {
   "cell_type": "code",
   "execution_count": null,
   "id": "61c983fd",
   "metadata": {},
   "outputs": [],
   "source": [
    "#Here we randomly split the dataset into 80% training set and 20% test set"
   ]
  },
  {
   "cell_type": "code",
   "execution_count": 29,
   "id": "438d79a2",
   "metadata": {},
   "outputs": [],
   "source": [
    "X = df.drop('survived',axis=1)\n",
    "y = df['survived']\n",
    "X_train, X_test, y_train, y_test = train_test_split(X, y, test_size=0.2)"
   ]
  },
  {
   "cell_type": "code",
   "execution_count": null,
   "id": "452dd438",
   "metadata": {},
   "outputs": [],
   "source": [
    "#Here we use a neural network with 2 layers and display its accuracy."
   ]
  },
  {
   "cell_type": "code",
   "execution_count": 30,
   "id": "8c22eef6",
   "metadata": {},
   "outputs": [
    {
     "data": {
      "text/plain": [
       "0.7595419847328244"
      ]
     },
     "execution_count": 30,
     "metadata": {},
     "output_type": "execute_result"
    }
   ],
   "source": [
    "classifier = MLPClassifier(solver='adam',hidden_layer_sizes=(2,),activation='logistic',learning_rate='constant',\n",
    "                           learning_rate_init=0.1,alpha=0.00000001, momentum=0.4)\n",
    "classifier = classifier.fit(X_train, y_train)\n",
    "y_pred = classifier.predict(X_test)\n",
    "accuracy_score(y_test, y_pred)"
   ]
  },
  {
   "cell_type": "code",
   "execution_count": null,
   "id": "e05b8d06",
   "metadata": {},
   "outputs": [],
   "source": [
    "#Performance of model with out of sample accuracy(Test Set) for 1st NN."
   ]
  },
  {
   "cell_type": "code",
   "execution_count": 31,
   "id": "439df360",
   "metadata": {},
   "outputs": [
    {
     "name": "stdout",
     "output_type": "stream",
     "text": [
      "out‐of‐sample percent survivors correctly predicted (on testing set) : 42.45%\n",
      "\n",
      "out-of‐sample percent fatalities correctly predicted (on testing set) : 98.72%\n",
      "\n"
     ]
    }
   ],
   "source": [
    "y_pred_new = classifier.predict(X_train)\n",
    "\n",
    "#For training set\n",
    "conf_matrix = confusion_matrix(y_train, y_pred_new)\n",
    "TN = conf_matrix[0][0]\n",
    "FN = conf_matrix[1][0]\n",
    "TP = conf_matrix[1][1]\n",
    "FP = conf_matrix[0][1]\n",
    "sensitivity_train = TP/(TP+FN)\n",
    "specificity_train = TN/(FP+TN)\n",
    "\n",
    "#for testing set\n",
    "conf_matrix = confusion_matrix(y_test, y_pred)\n",
    "TN = conf_matrix[0][0]\n",
    "FN = conf_matrix[1][0]\n",
    "TP = conf_matrix[1][1]\n",
    "FP = conf_matrix[0][1]\n",
    "sensitivity_test = TP/(TP+FN)\n",
    "specificity_test = TN/(FP+TN)\n",
    "\n",
    "print(\"out‐of‐sample percent survivors correctly predicted (on testing set) : {0:.2f}%\\n\".format(sensitivity_test*100))\n",
    "print(\"out-of‐sample percent fatalities correctly predicted (on testing set) : {0:.2f}%\\n\".format(specificity_test*100))"
   ]
  },
  {
   "cell_type": "code",
   "execution_count": null,
   "id": "2ad8a6c0",
   "metadata": {},
   "outputs": [],
   "source": [
    "#Here we use a neural network with 100 layers and display its accuracy."
   ]
  },
  {
   "cell_type": "code",
   "execution_count": 32,
   "id": "78903004",
   "metadata": {},
   "outputs": [
    {
     "data": {
      "text/plain": [
       "0.8015267175572519"
      ]
     },
     "execution_count": 32,
     "metadata": {},
     "output_type": "execute_result"
    }
   ],
   "source": [
    "classifier = MLPClassifier(solver='adam',hidden_layer_sizes=(100,),activation='logistic',learning_rate='constant',\n",
    "                           learning_rate_init=0.1,alpha=0.00000001, momentum=0.4)\n",
    "classifier = classifier.fit(X_train, y_train)\n",
    "\n",
    "y_pred = classifier.predict(X_test)\n",
    "\n",
    "accuracy_score(y_test, y_pred)"
   ]
  },
  {
   "cell_type": "code",
   "execution_count": null,
   "id": "a997543f",
   "metadata": {},
   "outputs": [],
   "source": [
    "#Performance of model with out of sample accuracy(Test Set) for 2nd NN."
   ]
  },
  {
   "cell_type": "code",
   "execution_count": 33,
   "id": "47d6be94",
   "metadata": {},
   "outputs": [
    {
     "name": "stdout",
     "output_type": "stream",
     "text": [
      "out‐of‐sample percent survivors correctly predicted (on testing set) : 62.26%\n",
      "\n",
      "out-of‐sample percent fatalities correctly predicted (on testing set) : 92.31%\n",
      "\n"
     ]
    }
   ],
   "source": [
    "y_pred_new = classifier.predict(X_train)\n",
    "\n",
    "#For training set\n",
    "conf_matrix = confusion_matrix(y_train, y_pred_new)\n",
    "TN = conf_matrix[0][0]\n",
    "FN = conf_matrix[1][0]\n",
    "TP = conf_matrix[1][1]\n",
    "FP = conf_matrix[0][1]\n",
    "sensitivity_train = TP/(TP+FN)\n",
    "specificity_train = TN/(FP+TN)\n",
    "\n",
    "#for testing set\n",
    "conf_matrix = confusion_matrix(y_test, y_pred)\n",
    "TN = conf_matrix[0][0]\n",
    "FN = conf_matrix[1][0]\n",
    "TP = conf_matrix[1][1]\n",
    "FP = conf_matrix[0][1]\n",
    "sensitivity_test = TP/(TP+FN)\n",
    "specificity_test = TN/(FP+TN)\n",
    "\n",
    "print(\"out‐of‐sample percent survivors correctly predicted (on testing set) : {0:.2f}%\\n\".format(sensitivity_test*100))\n",
    "print(\"out-of‐sample percent fatalities correctly predicted (on testing set) : {0:.2f}%\\n\".format(specificity_test*100))\n"
   ]
  },
  {
   "cell_type": "code",
   "execution_count": 34,
   "id": "4185f6f3",
   "metadata": {},
   "outputs": [
    {
     "data": {
      "text/html": [
       "<div>\n",
       "<style scoped>\n",
       "    .dataframe tbody tr th:only-of-type {\n",
       "        vertical-align: middle;\n",
       "    }\n",
       "\n",
       "    .dataframe tbody tr th {\n",
       "        vertical-align: top;\n",
       "    }\n",
       "\n",
       "    .dataframe thead th {\n",
       "        text-align: right;\n",
       "    }\n",
       "</style>\n",
       "<table border=\"1\" class=\"dataframe\">\n",
       "  <thead>\n",
       "    <tr style=\"text-align: right;\">\n",
       "      <th></th>\n",
       "      <th>Parameter</th>\n",
       "      <th>Random Forest</th>\n",
       "      <th>2 HL NN</th>\n",
       "      <th>100 HL NN</th>\n",
       "    </tr>\n",
       "  </thead>\n",
       "  <tbody>\n",
       "    <tr>\n",
       "      <th>0</th>\n",
       "      <td>out‐of‐sample percent survivors correctly predicted (on testing set)</td>\n",
       "      <td>62.62%</td>\n",
       "      <td>42.45%</td>\n",
       "      <td>62.26%</td>\n",
       "    </tr>\n",
       "    <tr>\n",
       "      <th>1</th>\n",
       "      <td>out-of‐sample percent fatalities correctly predicted (on testing set)</td>\n",
       "      <td>82.58%</td>\n",
       "      <td>98.72%</td>\n",
       "      <td>92.31%</td>\n",
       "    </tr>\n",
       "  </tbody>\n",
       "</table>\n",
       "</div>"
      ],
      "text/plain": [
       "                                                               Parameter  \\\n",
       "0  out‐of‐sample percent survivors correctly predicted (on testing set)    \n",
       "1  out-of‐sample percent fatalities correctly predicted (on testing set)   \n",
       "\n",
       "  Random Forest 2 HL NN 100 HL NN  \n",
       "0  62.62%        42.45%  62.26%    \n",
       "1  82.58%        98.72%  92.31%    "
      ]
     },
     "execution_count": 34,
     "metadata": {},
     "output_type": "execute_result"
    }
   ],
   "source": [
    "df = pd.DataFrame(columns=['Parameter', 'Random Forest', '2 HL NN','100 HL NN'])\n",
    "df = df.append({'Parameter': 'out‐of‐sample percent survivors correctly predicted (on testing set)', 'Random Forest': '62.62%', '2 HL NN': '42.45%','100 HL NN':'62.26%'}, ignore_index=True)\n",
    "df = df.append({'Parameter': 'out-of‐sample percent fatalities correctly predicted (on testing set)', 'Random Forest': '82.58%', '2 HL NN': '98.72%','100 HL NN':'92.31%'}, ignore_index=True)\n",
    "pd.set_option('display.max_colwidth', -1)\n",
    "df"
   ]
  },
  {
   "cell_type": "code",
   "execution_count": null,
   "id": "b44b5e9d",
   "metadata": {},
   "outputs": [],
   "source": [
    "#Having trained Rnadom Forest as well as Neural Networks multiple times, we cannot distinctively state whether\n",
    "#Random Forest or Neural Network will have a better accuracy.\n",
    "#The Random Forest is an ensemble of Decision Trees.\n",
    "#The neural network is a network of connected neurons.\n",
    "#We can keep a general rule in mind that \n",
    "#If you are going to work with tabular data, it is worth to check the Random Forests first because it is easier.\n",
    "#The Random Forests requires less preprocessing and the training process is simpler.\n",
    "#Therefore, it is simpler to use RF in the production system.\n",
    "#If you are not satisfied with the model performance you should try to tune and train Neural Network.\n",
    "#There are many hyperparameters which can be tuned in NN \n",
    "#and if you have enough knowledge and experience you can obtain very good results with NN."
   ]
  }
 ],
 "metadata": {
  "kernelspec": {
   "display_name": "Python 3",
   "language": "python",
   "name": "python3"
  },
  "language_info": {
   "codemirror_mode": {
    "name": "ipython",
    "version": 3
   },
   "file_extension": ".py",
   "mimetype": "text/x-python",
   "name": "python",
   "nbconvert_exporter": "python",
   "pygments_lexer": "ipython3",
   "version": "3.9.2"
  }
 },
 "nbformat": 4,
 "nbformat_minor": 5
}
